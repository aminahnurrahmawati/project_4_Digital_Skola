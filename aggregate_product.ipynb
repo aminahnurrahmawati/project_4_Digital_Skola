{
 "cells": [
  {
   "cell_type": "code",
   "execution_count": 1,
   "metadata": {},
   "outputs": [],
   "source": [
    "from mrjob.job import MRJob\n",
    "import psycopg2"
   ]
  },
  {
   "cell_type": "code",
   "execution_count": null,
   "metadata": {},
   "outputs": [],
   "source": [
    "class AggregateProduct(MRJob):\n",
    "\n",
    "    def reducer_init(self):\n",
    "        self.conn= psycopg2.connect(database= 'database', user ='postgres', password='mekanika', host='localhost', port='5432')\n",
    "\n",
    "    def mapper(self, _, line):\n",
    "        item=line.strip().split(',')\n",
    "        year =item[1][-4:]\n",
    "        yield item[1], int(item[4])\n",
    "\n",
    "    def reducer(self, key, value):\n",
    "        yield key, sum(values)\n",
    "\n",
    "    def store(self,key,values):\n",
    "        self.cur=self.conn.cursor()\n",
    "        self.cur.execute(\"insert into total_order_yearly (year, total_order) values(%s, %s)\",(key,values))\n",
    "\n",
    "    def steps(self):\n",
    "        return [\n",
    "            MRStep(\n",
    "                mapper=self.mapper,\n",
    "                reducer=self.reducer\n",
    "            )\n",
    "            MRStep(\n",
    "                mapper=self.mapper,\n",
    "                reducer_init=self.reducer_init,\n",
    "                reducer=self.reducer\n",
    "            )\n",
    "        ]\n",
    "    def mapper_final(self):\n",
    "        self.conn.commit()\n",
    "        self.conn.close()\n",
    "\n",
    "if __name__ == '__main__':\n",
    "    AggregateProduct.run()"
   ]
  }
 ],
 "metadata": {
  "kernelspec": {
   "display_name": "Python 3.7.9 64-bit",
   "language": "python",
   "name": "python3"
  },
  "language_info": {
   "codemirror_mode": {
    "name": "ipython",
    "version": 3
   },
   "file_extension": ".py",
   "mimetype": "text/x-python",
   "name": "python",
   "nbconvert_exporter": "python",
   "pygments_lexer": "ipython3",
   "version": "3.7.9"
  },
  "orig_nbformat": 4,
  "vscode": {
   "interpreter": {
    "hash": "45a851a8e049304e8d8fc9276f397ed5699faa42a654317800ed71714fc34a6c"
   }
  }
 },
 "nbformat": 4,
 "nbformat_minor": 2
}
