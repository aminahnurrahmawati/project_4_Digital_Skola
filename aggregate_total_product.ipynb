{
 "cells": [
  {
   "cell_type": "code",
   "execution_count": 2,
   "metadata": {},
   "outputs": [],
   "source": [
    "import pandas as pd\n",
    "import psycopg2\n",
    "import sqlalchemy\n",
    "from mrjob.job import MRJob"
   ]
  },
  {
   "cell_type": "code",
   "execution_count": 3,
   "metadata": {},
   "outputs": [],
   "source": [
    "data_order = pd.read_csv('TR_OrderDetails.csv')\n",
    "data_Product= pd.read_csv('TR_Products.csv')"
   ]
  },
  {
   "cell_type": "code",
   "execution_count": 4,
   "metadata": {},
   "outputs": [
    {
     "data": {
      "text/html": [
       "<div>\n",
       "<style scoped>\n",
       "    .dataframe tbody tr th:only-of-type {\n",
       "        vertical-align: middle;\n",
       "    }\n",
       "\n",
       "    .dataframe tbody tr th {\n",
       "        vertical-align: top;\n",
       "    }\n",
       "\n",
       "    .dataframe thead th {\n",
       "        text-align: right;\n",
       "    }\n",
       "</style>\n",
       "<table border=\"1\" class=\"dataframe\">\n",
       "  <thead>\n",
       "    <tr style=\"text-align: right;\">\n",
       "      <th></th>\n",
       "      <th>OrderID</th>\n",
       "      <th>OrderDate</th>\n",
       "      <th>PropertyID</th>\n",
       "      <th>ProductID</th>\n",
       "      <th>Quantity</th>\n",
       "    </tr>\n",
       "  </thead>\n",
       "  <tbody>\n",
       "    <tr>\n",
       "      <th>0</th>\n",
       "      <td>1</td>\n",
       "      <td>01-01-2015</td>\n",
       "      <td>17</td>\n",
       "      <td>41</td>\n",
       "      <td>1</td>\n",
       "    </tr>\n",
       "    <tr>\n",
       "      <th>1</th>\n",
       "      <td>2</td>\n",
       "      <td>01-01-2015</td>\n",
       "      <td>15</td>\n",
       "      <td>54</td>\n",
       "      <td>2</td>\n",
       "    </tr>\n",
       "    <tr>\n",
       "      <th>2</th>\n",
       "      <td>3</td>\n",
       "      <td>01-01-2015</td>\n",
       "      <td>5</td>\n",
       "      <td>71</td>\n",
       "      <td>2</td>\n",
       "    </tr>\n",
       "    <tr>\n",
       "      <th>3</th>\n",
       "      <td>4</td>\n",
       "      <td>01-01-2015</td>\n",
       "      <td>19</td>\n",
       "      <td>3</td>\n",
       "      <td>2</td>\n",
       "    </tr>\n",
       "    <tr>\n",
       "      <th>4</th>\n",
       "      <td>5</td>\n",
       "      <td>01-01-2015</td>\n",
       "      <td>12</td>\n",
       "      <td>45</td>\n",
       "      <td>3</td>\n",
       "    </tr>\n",
       "  </tbody>\n",
       "</table>\n",
       "</div>"
      ],
      "text/plain": [
       "   OrderID   OrderDate  PropertyID  ProductID  Quantity\n",
       "0        1  01-01-2015          17         41         1\n",
       "1        2  01-01-2015          15         54         2\n",
       "2        3  01-01-2015           5         71         2\n",
       "3        4  01-01-2015          19          3         2\n",
       "4        5  01-01-2015          12         45         3"
      ]
     },
     "execution_count": 4,
     "metadata": {},
     "output_type": "execute_result"
    }
   ],
   "source": [
    "data_order.head()"
   ]
  },
  {
   "cell_type": "code",
   "execution_count": 5,
   "metadata": {},
   "outputs": [
    {
     "data": {
      "text/html": [
       "<div>\n",
       "<style scoped>\n",
       "    .dataframe tbody tr th:only-of-type {\n",
       "        vertical-align: middle;\n",
       "    }\n",
       "\n",
       "    .dataframe tbody tr th {\n",
       "        vertical-align: top;\n",
       "    }\n",
       "\n",
       "    .dataframe thead th {\n",
       "        text-align: right;\n",
       "    }\n",
       "</style>\n",
       "<table border=\"1\" class=\"dataframe\">\n",
       "  <thead>\n",
       "    <tr style=\"text-align: right;\">\n",
       "      <th></th>\n",
       "      <th>ProductID</th>\n",
       "      <th>ProductName</th>\n",
       "      <th>ProductCategory</th>\n",
       "      <th>Price</th>\n",
       "    </tr>\n",
       "  </thead>\n",
       "  <tbody>\n",
       "    <tr>\n",
       "      <th>0</th>\n",
       "      <td>1</td>\n",
       "      <td>Large Towel</td>\n",
       "      <td>Housekeeping</td>\n",
       "      <td>9</td>\n",
       "    </tr>\n",
       "    <tr>\n",
       "      <th>1</th>\n",
       "      <td>2</td>\n",
       "      <td>Hand Towel</td>\n",
       "      <td>Housekeeping</td>\n",
       "      <td>5</td>\n",
       "    </tr>\n",
       "    <tr>\n",
       "      <th>2</th>\n",
       "      <td>3</td>\n",
       "      <td>Washcloth</td>\n",
       "      <td>Housekeeping</td>\n",
       "      <td>3</td>\n",
       "    </tr>\n",
       "    <tr>\n",
       "      <th>3</th>\n",
       "      <td>4</td>\n",
       "      <td>Shampoo</td>\n",
       "      <td>Housekeeping</td>\n",
       "      <td>40</td>\n",
       "    </tr>\n",
       "    <tr>\n",
       "      <th>4</th>\n",
       "      <td>5</td>\n",
       "      <td>Moisturizer</td>\n",
       "      <td>Housekeeping</td>\n",
       "      <td>40</td>\n",
       "    </tr>\n",
       "  </tbody>\n",
       "</table>\n",
       "</div>"
      ],
      "text/plain": [
       "   ProductID  ProductName ProductCategory  Price\n",
       "0          1  Large Towel    Housekeeping      9\n",
       "1          2   Hand Towel    Housekeeping      5\n",
       "2          3    Washcloth    Housekeeping      3\n",
       "3          4      Shampoo    Housekeeping     40\n",
       "4          5  Moisturizer    Housekeeping     40"
      ]
     },
     "execution_count": 5,
     "metadata": {},
     "output_type": "execute_result"
    }
   ],
   "source": [
    "data_Product.head()"
   ]
  },
  {
   "cell_type": "code",
   "execution_count": 6,
   "metadata": {},
   "outputs": [],
   "source": [
    "data_property = pd.read_csv('TR_PropertyInfo.csv')\n",
    "data_user = pd.read_csv('TR_UserInfo.csv')"
   ]
  },
  {
   "cell_type": "code",
   "execution_count": null,
   "metadata": {},
   "outputs": [],
   "source": [
    "class AggregateTotalProduct(MRJob):\n",
    "\n",
    "    def reducer_init(self):\n",
    "        self.conn= psycopg2.connect(database= 'database', user ='postgres', password='mekanika', host='localhost', port='5432')\n",
    "\n",
    "    def mapper(self, _, line):\n",
    "        item=line.strip().split(',')\n",
    "        year =item[1][-4:]\n",
    "        yield item[1], int(item[4])\n",
    "\n",
    "    def reducer(self, key, value):\n",
    "        yield key, sum(values)\n",
    "\n",
    "    def store(self,key,values):\n",
    "        self.cur=self.conn.cursor()\n",
    "        self.cur.execute(\"insert into total_product_yearly (year, total_product) values(%s, %s)\",(key,values))\n",
    "\n",
    "    def steps(self):\n",
    "        return [\n",
    "            MRStep(\n",
    "                mapper=self.mapper,\n",
    "                reducer=self.reducer\n",
    "            )\n",
    "            MRStep(\n",
    "                mapper=self.mapper,\n",
    "                reducer_init=self.reducer_init,\n",
    "                reducer=self.reducer\n",
    "            )\n",
    "        ]\n",
    "    def mapper_final(self):\n",
    "        self.conn.commit()\n",
    "        self.conn.close()\n",
    "\n",
    "if __name__ == '__main__':\n",
    "    AggregateTotalProduct.run()"
   ]
  }
 ],
 "metadata": {
  "kernelspec": {
   "display_name": "Python 3.7.9 64-bit",
   "language": "python",
   "name": "python3"
  },
  "language_info": {
   "codemirror_mode": {
    "name": "ipython",
    "version": 3
   },
   "file_extension": ".py",
   "mimetype": "text/x-python",
   "name": "python",
   "nbconvert_exporter": "python",
   "pygments_lexer": "ipython3",
   "version": "3.7.9"
  },
  "orig_nbformat": 4,
  "vscode": {
   "interpreter": {
    "hash": "45a851a8e049304e8d8fc9276f397ed5699faa42a654317800ed71714fc34a6c"
   }
  }
 },
 "nbformat": 4,
 "nbformat_minor": 2
}
