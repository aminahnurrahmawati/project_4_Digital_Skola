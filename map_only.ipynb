{
 "cells": [
  {
   "cell_type": "code",
   "execution_count": 6,
   "metadata": {},
   "outputs": [],
   "source": [
    "from mrjob.job import MRJob\n",
    "import psycopg2"
   ]
  },
  {
   "cell_type": "code",
   "execution_count": 8,
   "metadata": {},
   "outputs": [
    {
     "name": "stderr",
     "output_type": "stream",
     "text": [
      "usage: ipykernel_launcher.py [options] [input files]\n",
      "ipykernel_launcher.py: error: unrecognized arguments: --ip=127.0.0.1 --stdin=9019 --control=9017 --hb=9016 --Session.signature_scheme=\"hmac-sha256\" --Session.key=b\"1ab41b00-d96f-4d14-b24d-788f1b9a21a7\" --shell=9018 --transport=\"tcp\" --iopub=9020\n"
     ]
    },
    {
     "ename": "SystemExit",
     "evalue": "2",
     "output_type": "error",
     "traceback": [
      "An exception has occurred, use %tb to see the full traceback.\n",
      "\u001b[1;31mSystemExit\u001b[0m\u001b[1;31m:\u001b[0m 2\n"
     ]
    }
   ],
   "source": [
    "class FilterProduct(MRJob):\n",
    "    def mapper_init(self):\n",
    "        #make postgres database available to mapper\n",
    "        self.conn= psycopg2.connect(database= 'database', user ='postgres', password='mekanika', host='localhost', port='5432')\n",
    "\n",
    "    def mapper(self, _, line):\n",
    "        self.cur = self.con.cursor()\n",
    "        item = line.strip().split(',')\n",
    "        if int(item[3])>0:\n",
    "            self.cur.execute(\"insert into product (product_id, product_name, product_category, price), values(%s,%s,%s,%s)\", (item[0], item[1], item[2], item[3]))\n",
    "    def mapper_final(self):\n",
    "        self.conn.commit()\n",
    "        self.conn.close()\n",
    "\n",
    "if __name__ == '__main__':\n",
    "    FilterProduct.run()"
   ]
  }
 ],
 "metadata": {
  "kernelspec": {
   "display_name": "Python 3.7.9 64-bit",
   "language": "python",
   "name": "python3"
  },
  "language_info": {
   "codemirror_mode": {
    "name": "ipython",
    "version": 3
   },
   "file_extension": ".py",
   "mimetype": "text/x-python",
   "name": "python",
   "nbconvert_exporter": "python",
   "pygments_lexer": "ipython3",
   "version": "3.7.9"
  },
  "orig_nbformat": 4,
  "vscode": {
   "interpreter": {
    "hash": "45a851a8e049304e8d8fc9276f397ed5699faa42a654317800ed71714fc34a6c"
   }
  }
 },
 "nbformat": 4,
 "nbformat_minor": 2
}
